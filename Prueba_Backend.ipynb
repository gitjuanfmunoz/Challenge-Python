{
 "cells": [
  {
   "cell_type": "code",
   "execution_count": 1,
   "metadata": {},
   "outputs": [],
   "source": [
    "import requests,json,random, sqlite3\n",
    "import pandas as pd\n",
    "from hashlib import sha1\n",
    "from time import time\n",
    "from keys import headers\n",
    "\n",
    "url = \"https://restcountries-v1.p.rapidapi.com/all\"\n",
    "\n",
    "def regions_api_rest(url, headers):\n",
    "    result = requests.request(\"GET\", url, headers=headers).json()\n",
    "\n",
    "    without_region =[]\n",
    "    regions = []\n",
    "    \n",
    "    for item in result:\n",
    "     #Bouvet island and Mcdonald Island  >> 'N/A'\n",
    "    \tif item['region']=='':\n",
    "        \titem['region'] = 'N/A'\n",
    "        \twithout_region.append(item)\n",
    "\n",
    "    \tif item['region'] not in regions:\n",
    "        \tregions.append(item['region'])\n",
    "    return regions, without_region\n",
    "\n",
    "\n",
    "def country_regions(regions, without_region):\n",
    "    reg =[]\n",
    "    city = [] \n",
    "    lang = []\n",
    "    time_ejec = []\n",
    "    \n",
    "    df = pd.DataFrame(columns=('Region', 'City name', 'Language', 'Time(ms)'), index=None)\n",
    "    \n",
    "    if isinstance(regions, list):\n",
    "        for region in regions:\n",
    "            if isinstance(region, str):\n",
    "            \n",
    "                if region != 'N/A':\n",
    "                    t_i = time()\n",
    "                    url = \"https://restcountries.eu/rest/v2/region/\" + region\n",
    "                    countries = requests.request(\"GET\", url).json()\n",
    "                    \n",
    "                    \n",
    "                    country_select = random.choice(countries)\n",
    "                \n",
    "                    for lang_data in country_select['languages']:\n",
    "                        language_name = sha1(lang_data['name'].encode('utf-8')).hexdigest()\n",
    "                    reg.append(region)\n",
    "                    city.append(country_select['name'])\n",
    "                    lang.append(language_name) \n",
    "                    t_f = time()\n",
    "                    time_ejec.append(float(\"%.2f\" % ((t_f-t_i)*1000)))\n",
    "                elif region == 'N/A':\n",
    "                    t_i2 = time()\n",
    "                    country_select = random.choice(without_region)\n",
    "                    #bouvet island >>N/A\n",
    "                    if country_select['languages']== []:\n",
    "                        country_select['languages'] = 'N/A'\n",
    "                    \n",
    "                    #encrypts\n",
    "                    for lang_data in country_select['languages']:\n",
    "                        language_name = sha1(lang_data.encode('utf-8')).hexdigest()\n",
    "                    reg.append(region)\n",
    "                    city.append(country_select['name'])\n",
    "                    lang.append(language_name)\n",
    "                    t_f2 = time()\n",
    "                    time_ejec.append(float(\"%.2f\" % ((t_f2-t_i2)*1000)))\n",
    "                    df['Region'] = reg\n",
    "                    df['City name'] = city\n",
    "                    df['Language'] = lang\n",
    "                    df['Time(ms)'] = time_ejec\n",
    "                    #6 times\n",
    "                    time_max = df['Time(ms)'].max()\n",
    "                    time_min = df['Time(ms)'].min()\n",
    "                    time_total = df['Time(ms)'].sum()\n",
    "                    time_average = df['Time(ms)'].mean()\n",
    "                    return df, time_max, time_min, time_total, time_average\n",
    "                else:\n",
    "                    print('No es una opcion')\n",
    "            else:\n",
    "                print('Tipo de dato no valido: {0}. ingrese un valor tipo String.'.format(type(op)))\n",
    "    else:\n",
    "        print('ingrese la lista de regiones')\n",
    "        \n",
    "        \n",
    "def sqlite_insert(table_data):\n",
    "    conn = sqlite3.connect('resultado_Prueba.db')\n",
    "    table_data.to_sql(name='Tabla_Regiones', con=conn, if_exists='replace')\n",
    "    table_data.to_json('data.json')"
   ]
  },
  {
   "cell_type": "code",
   "execution_count": 2,
   "metadata": {},
   "outputs": [
    {
     "name": "stderr",
     "output_type": "stream",
     "text": [
      "/Users/JuanMunoz/anaconda3/lib/python3.7/site-packages/pandas/core/generic.py:2612: UserWarning: The spaces in these column names will not be changed. In pandas versions < 0.14, spaces were converted to underscores.\n",
      "  method=method,\n"
     ]
    }
   ],
   "source": [
    "[regions, without_region] = regions_api_rest(url, headers)\n",
    "[table_data, time_max, time_min, time_total, time_average] = country_regions(regions, without_region)\n",
    "#7.Save Result and 8 generate Json\n",
    "sqlite_insert(table_data)"
   ]
  },
  {
   "cell_type": "code",
   "execution_count": 3,
   "metadata": {},
   "outputs": [
    {
     "data": {
      "text/html": [
       "<div>\n",
       "<style scoped>\n",
       "    .dataframe tbody tr th:only-of-type {\n",
       "        vertical-align: middle;\n",
       "    }\n",
       "\n",
       "    .dataframe tbody tr th {\n",
       "        vertical-align: top;\n",
       "    }\n",
       "\n",
       "    .dataframe thead th {\n",
       "        text-align: right;\n",
       "    }\n",
       "</style>\n",
       "<table border=\"1\" class=\"dataframe\">\n",
       "  <thead>\n",
       "    <tr style=\"text-align: right;\">\n",
       "      <th></th>\n",
       "      <th>Region</th>\n",
       "      <th>City name</th>\n",
       "      <th>Language</th>\n",
       "      <th>Time(ms)</th>\n",
       "    </tr>\n",
       "  </thead>\n",
       "  <tbody>\n",
       "    <tr>\n",
       "      <th>0</th>\n",
       "      <td>Asia</td>\n",
       "      <td>Nepal</td>\n",
       "      <td>16e340746126ed50b9b41c11e75938dcc3f78df2</td>\n",
       "      <td>398.26</td>\n",
       "    </tr>\n",
       "    <tr>\n",
       "      <th>1</th>\n",
       "      <td>Europe</td>\n",
       "      <td>Ukraine</td>\n",
       "      <td>515451058797b204e188dd70f8d20f32dacca327</td>\n",
       "      <td>361.28</td>\n",
       "    </tr>\n",
       "    <tr>\n",
       "      <th>2</th>\n",
       "      <td>Africa</td>\n",
       "      <td>Mozambique</td>\n",
       "      <td>23882c575954a0789bf02aba9e6dd01f539bc738</td>\n",
       "      <td>372.47</td>\n",
       "    </tr>\n",
       "    <tr>\n",
       "      <th>3</th>\n",
       "      <td>Oceania</td>\n",
       "      <td>Tokelau</td>\n",
       "      <td>649df08a448ee3fa90f3746baaf6b0907df42c91</td>\n",
       "      <td>385.06</td>\n",
       "    </tr>\n",
       "    <tr>\n",
       "      <th>4</th>\n",
       "      <td>Americas</td>\n",
       "      <td>Virgin Islands (British)</td>\n",
       "      <td>649df08a448ee3fa90f3746baaf6b0907df42c91</td>\n",
       "      <td>386.34</td>\n",
       "    </tr>\n",
       "    <tr>\n",
       "      <th>5</th>\n",
       "      <td>Polar</td>\n",
       "      <td>Antarctica</td>\n",
       "      <td>74ad93cbebf587ac46ab0ef1e3f24139ddd3f535</td>\n",
       "      <td>336.55</td>\n",
       "    </tr>\n",
       "    <tr>\n",
       "      <th>6</th>\n",
       "      <td>N/A</td>\n",
       "      <td>Heard Island and McDonald Islands</td>\n",
       "      <td>094b0fe0e302854af1311afab85b5203ba457a3b</td>\n",
       "      <td>0.01</td>\n",
       "    </tr>\n",
       "  </tbody>\n",
       "</table>\n",
       "</div>"
      ],
      "text/plain": [
       "     Region                          City name  \\\n",
       "0      Asia                              Nepal   \n",
       "1    Europe                            Ukraine   \n",
       "2    Africa                         Mozambique   \n",
       "3   Oceania                            Tokelau   \n",
       "4  Americas           Virgin Islands (British)   \n",
       "5     Polar                         Antarctica   \n",
       "6       N/A  Heard Island and McDonald Islands   \n",
       "\n",
       "                                   Language  Time(ms)  \n",
       "0  16e340746126ed50b9b41c11e75938dcc3f78df2    398.26  \n",
       "1  515451058797b204e188dd70f8d20f32dacca327    361.28  \n",
       "2  23882c575954a0789bf02aba9e6dd01f539bc738    372.47  \n",
       "3  649df08a448ee3fa90f3746baaf6b0907df42c91    385.06  \n",
       "4  649df08a448ee3fa90f3746baaf6b0907df42c91    386.34  \n",
       "5  74ad93cbebf587ac46ab0ef1e3f24139ddd3f535    336.55  \n",
       "6  094b0fe0e302854af1311afab85b5203ba457a3b      0.01  "
      ]
     },
     "execution_count": 3,
     "metadata": {},
     "output_type": "execute_result"
    }
   ],
   "source": [
    "table_data"
   ]
  },
  {
   "cell_type": "code",
   "execution_count": 4,
   "metadata": {},
   "outputs": [
    {
     "name": "stdout",
     "output_type": "stream",
     "text": [
      "tiempo total 2239.97\n",
      "tiempo promedio 320.00\n",
      "tiempo minimo 0.01\n",
      "tiempo maximo 398.26\n"
     ]
    }
   ],
   "source": [
    "print(f\"tiempo total {time_total:.2f}\\ntiempo promedio {time_average:.2f}\\ntiempo minimo {time_min:.2f}\\ntiempo maximo {time_max:.2f}\")\n"
   ]
  }
 ],
 "metadata": {
  "hide_input": false,
  "kernelspec": {
   "display_name": "Python 3",
   "language": "python",
   "name": "python3"
  },
  "language_info": {
   "codemirror_mode": {
    "name": "ipython",
    "version": 3
   },
   "file_extension": ".py",
   "mimetype": "text/x-python",
   "name": "python",
   "nbconvert_exporter": "python",
   "pygments_lexer": "ipython3",
   "version": "3.7.3"
  },
  "varInspector": {
   "cols": {
    "lenName": 16,
    "lenType": 16,
    "lenVar": 40
   },
   "kernels_config": {
    "python": {
     "delete_cmd_postfix": "",
     "delete_cmd_prefix": "del ",
     "library": "var_list.py",
     "varRefreshCmd": "print(var_dic_list())"
    },
    "r": {
     "delete_cmd_postfix": ") ",
     "delete_cmd_prefix": "rm(",
     "library": "var_list.r",
     "varRefreshCmd": "cat(var_dic_list()) "
    }
   },
   "types_to_exclude": [
    "module",
    "function",
    "builtin_function_or_method",
    "instance",
    "_Feature"
   ],
   "window_display": false
  }
 },
 "nbformat": 4,
 "nbformat_minor": 2
}
